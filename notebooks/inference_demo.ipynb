{
 "cells": [
  {
   "cell_type": "markdown",
   "metadata": {
    "id": "inference-demo"
   },
   "source": [
    "# AlpaCare Medical Assistant - Inference Demo\n",
    "## Solar Industries India Ltd - Internship Assessment\n",
    "\n",
    "This notebook demonstrates the trained medical assistant with safety disclaimers."
   ]
  },
  {
   "cell_type": "markdown",
   "metadata": {
    "id": "setup"
   },
   "source": [
    "## 1. Install & Import"
   ]
  },
  {
   "cell_type": "code",
   "execution_count": null,
   "metadata": {
    "id": "install-import"
   },
   "outputs": [],
   "source": [
    "!pip install -q torch transformers peft accelerate\n",
    "\n",
    "from transformers import AutoTokenizer, AutoModelForCausalLM\n",
    "from peft import PeftModel\n",
    "import torch"
   ]
  },
  {
   "cell_type": "markdown",
   "metadata": {
    "id": "load-model"
   },
   "source": [
    "## 2. Load Base Model + LoRA Adapter"
   ]
  },
  {
   "cell_type": "code",
   "execution_count": null,
   "metadata": {
    "id": "load-trained-model"
   },
   "outputs": [],
   "source": [
    "# Base model\n",
    "base_model = \"microsoft/DialoGPT-medium\"\n",
    "\n",
    "tokenizer = AutoTokenizer.from_pretrained(base_model)\n",
    "tokenizer.pad_token = tokenizer.eos_token\n",
    "\n",
    "model = AutoModelForCausalLM.from_pretrained(\n",
    "    base_model,\n",
    "    torch_dtype=torch.float16,\n",
    "    device_map=\"auto\"\n",
    ")\n",
    "\n",
    "# Load LoRA adapter (update path if needed)\n",
    "adapter_path = \"./alpacare-lora-adapter\"  # or path from your training\n",
    "model = PeftModel.from_pretrained(model, adapter_path)\n",
    "\n",
    "print(\"Model and adapter loaded successfully!\")"
   ]
  },
  {
   "cell_type": "markdown",
   "metadata": {
    "id": "inference-function"
   },
   "source": [
    "## 3. Inference Function with Safety"
   ]
  },
  {
   "cell_type": "code",
   "execution_count": null,
   "metadata": {
    "id": "generate-function"
   },
   "outputs": [],
   "source": [
    "def generate_medical_response(question, max_length=300):\n",
    "    \"\"\"Generate response with medical disclaimer\"\"\"\n",
    "    \n",
    "    # Add prompt template for medical safety\n",
    "    safe_prompt = f\"\"\"Medical Question: {question}\n",
    "\n",
    "Educational Response:\"\"\"\n",
    "    \n",
    "    inputs = tokenizer(safe_prompt, return_tensors=\"pt\")\n",
    "    \n",
    "    with torch.no_grad():\n",
    "        outputs = model.generate(\n",
    "            inputs.input_ids.to(model.device),\n",
    "            max_length=max_length,\n",
    "            temperature=0.7,\n",
    "            do_sample=True,\n",
    "            pad_token_id=tokenizer.eos_token_id\n",
    "        )\n",
    "    \n",
    "    response = tokenizer.decode(outputs[0], skip_special_tokens=True)\n",
    "    \n",
    "    # Extract only the generated part (after \"Educational Response:\")\n",
    "    if \"Educational Response:\" in response:\n",
    "        response = response.split(\"Educational Response:\")[1].strip()\n",
    "    \n",
    "    # Ensure disclaimer is present\n",
    "    disclaimer = \"\\n\\n--- MEDICAL DISCLAIMER ---\\nThis is for educational purposes only. Please consult a qualified healthcare professional for medical advice.\"\n",
    "    \n",
    "    if \"DISCLAIMER\" not in response.upper():\n",
    "        response += disclaimer\n",
    "    \n",
    "    return response"
   ]
  },
  {
   "cell_type": "markdown",
   "metadata": {
    "id": "demo-prompts"
   },
   "source": [
    "## 4. Demo Prompts (SAFE Examples)"
   ]
  },
  {
   "cell_type": "code",
   "execution_count": null,
   "metadata": {
    "id": "test-prompts"
   },
   "outputs": [],
   "source": [
    "# SAFE demo prompts (no diagnosis/prescription)\n",
    "demo_prompts = [\n",
    "    \"What are the common symptoms of influenza?\",\n",
    "    \"How can I maintain a healthy diet?\",\n",
    "    \"What is the importance of regular exercise?\",\n",
    "    \"Explain what blood pressure measures\",\n",
    "    \"What are some stress management techniques?\"\n",
    "]\n",
    "\n",
    "print(\"=== AlpaCare Medical Assistant Demo ===\\n\")\n",
    "\n",
    "for i, prompt in enumerate(demo_prompts, 1):\n",
    "    print(f\"\\n{'='*50}\")\n",
    "    print(f\"Demo {i}: {prompt}\")\n",
    "    print(f\"{'='*50}\")\n",
    "    \n",
    "    response = generate_medical_response(prompt)\n",
    "    print(f\"Response: {response}\")\n",
    "    \n",
    "    print(\"\\n\" + \"-\"*50)"
   ]
  },
  {
   "cell_type": "markdown",
   "metadata": {
    "id": "custom-test"
   },
   "source": [
    "## 5. Test Your Own Question"
   ]
  },
  {
   "cell_type": "code",
   "execution_count": null,
   "metadata": {
    "id": "custom-prompt"
   },
   "outputs": [],
   "source": [
    "# Test with your own question (SAFE questions only)\n",
    "custom_question = \"What are the benefits of drinking water?\"  # Change this if you want\n",
    "\n",
    "print(f\"Question: {custom_question}\")\n",
    "print(\"\\nGenerating response...\\n\")\n",
    "\n",
    "response = generate_medical_response(custom_question)\n",
    "print(f\"Assistant: {response}\")"
   ]
  },
  {
   "cell_type": "markdown",
   "metadata": {
    "id": "safety-check"
   },
   "source": [
    "## ✅ Demo Complete!\n",
    "\n",
    "**Key Features Demonstrated:**\n",
    "- Medical question answering\n",
    "- Automatic safety disclaimers\n",
    "- No diagnosis/prescription\n",
    - Educational focus only"
   ]
  }
 ],
 "metadata": {
  "accelerator": "GPU",
  "colab": {
   "provenance": []
  },
  "kernelspec": {
   "display_name": "Python 3",
   "name": "python3"
  },
  "language_info": {
   "name": "python"
  }
 },
 "nbformat": 4,
 "nbformat_minor": 0
}
